{
 "cells": [
  {
   "cell_type": "code",
   "execution_count": 2,
   "id": "bb7a9116",
   "metadata": {
    "pycharm": {
     "name": "#%%\n",
     "is_executing": true
    },
    "ExecuteTime": {
     "end_time": "2023-11-22T07:25:28.734671900Z",
     "start_time": "2023-11-22T07:24:31.719548800Z"
    }
   },
   "outputs": [
    {
     "name": "stdout",
     "output_type": "stream",
     "text": [
      "WARNING:tensorflow:From C:\\projects\\piis-ws2324\\piis-ws2324-tl\\venv\\lib\\site-packages\\keras\\src\\losses.py:2976: The name tf.losses.sparse_softmax_cross_entropy is deprecated. Please use tf.compat.v1.losses.sparse_softmax_cross_entropy instead.\n",
      "TensorFlow version: 2.15.0\n"
     ]
    }
   ],
   "source": [
    "import tensorflow as tf\n",
    "import pandas as pd\n",
    "import numpy as np\n",
    "import tensorflowjs as tfjs\n",
    "print(\"TensorFlow version:\", tf.__version__)"
   ]
  },
  {
   "cell_type": "code",
   "execution_count": 4,
   "outputs": [
    {
     "data": {
      "text/plain": "session_id                             object\ncount                                   int64\nstudyID                                object\nsession_length                timedelta64[ns]\ntimestamp_1                    datetime64[ns]\n                                   ...       \nf_clicks_other                        float64\nf_app_count_other                     float64\nf_app_time_other                      float64\nf_app_category_count_other            float64\nf_app_category_time_other             float64\nLength: 179, dtype: object"
     },
     "execution_count": 4,
     "metadata": {},
     "output_type": "execute_result"
    }
   ],
   "source": [
    "# download and import dataset from Smartphone Rabbit Hole paper\n",
    "csv_file = tf.keras.utils.get_file('rabbithole.pickle', 'https://raw.githubusercontent.com/mimuc/mobilehci23-mobile-phone-rabbit-hole/main/data/smartphone_sessions_with_features.pickle')\n",
    "df_full = pd.read_pickle(csv_file)\n",
    "df_full.head()\n",
    "df_full.dtypes"
   ],
   "metadata": {
    "collapsed": false,
    "pycharm": {
     "name": "#%%\n"
    },
    "ExecuteTime": {
     "end_time": "2023-11-20T13:19:22.523776300Z",
     "start_time": "2023-11-20T13:19:18.795281500Z"
    }
   },
   "id": "acb69974c7876aa4"
  },
  {
   "cell_type": "code",
   "execution_count": 10,
   "outputs": [
    {
     "name": "stderr",
     "output_type": "stream",
     "text": [
      "C:\\Users\\florianb\\AppData\\Local\\Temp\\ipykernel_8320\\3714793922.py:12: SettingWithCopyWarning: \n",
      "A value is trying to be set on a copy of a slice from a DataFrame.\n",
      "Try using .loc[row_indexer,col_indexer] = value instead\n",
      "\n",
      "See the caveats in the documentation: https://pandas.pydata.org/pandas-docs/stable/user_guide/indexing.html#returning-a-view-versus-a-copy\n",
      "  df['f_esm_regret'] = df['f_esm_regret'].astype(float).astype(int).apply(lambda x: 1 if x>4 else 0)\n",
      "C:\\projects\\piis-ws2324\\piis-ws2324-tl\\venv\\lib\\site-packages\\numpy\\core\\fromnumeric.py:59: FutureWarning: 'DataFrame.swapaxes' is deprecated and will be removed in a future version. Please use 'DataFrame.transpose' instead.\n",
      "  return bound(*args, **kwds)\n"
     ]
    },
    {
     "data": {
      "text/plain": "<tf.Tensor: shape=(2132, 77), dtype=float64, numpy=\narray([[0.000e+00, 0.000e+00, 0.000e+00, ..., 0.000e+00, 0.000e+00,\n        0.000e+00],\n       [0.000e+00, 0.000e+00, 0.000e+00, ..., 0.000e+00, 0.000e+00,\n        0.000e+00],\n       [1.000e+00, 7.593e+04, 1.000e+00, ..., 0.000e+00, 0.000e+00,\n        0.000e+00],\n       ...,\n       [0.000e+00, 0.000e+00, 0.000e+00, ..., 0.000e+00, 0.000e+00,\n        0.000e+00],\n       [0.000e+00, 0.000e+00, 6.000e+00, ..., 0.000e+00, 0.000e+00,\n        0.000e+00],\n       [1.000e+00, 1.535e+04, 1.000e+00, ..., 0.000e+00, 0.000e+00,\n        0.000e+00]])>"
     },
     "execution_count": 10,
     "metadata": {},
     "output_type": "execute_result"
    }
   ],
   "source": [
    "# filter for rows where target label exists\n",
    "df = df_full[df_full['f_esm_regret'] != '']\n",
    "\n",
    "\n",
    "# feature selection\n",
    "numeric_feature_names = ['f_esm_regret']\n",
    "for c in df.columns:\n",
    "    if (\"f_app_category\" in c):\n",
    "        numeric_feature_names.append(c)\n",
    "        \n",
    "# make target feature binary\n",
    "df['f_esm_regret'] = df['f_esm_regret'].astype(float).astype(int).apply(lambda x: 1 if x>4 else 0)\n",
    "\n",
    "\n",
    "df = df[numeric_feature_names]\n",
    "df.head()\n",
    "\n",
    "\n",
    "# dataset split\n",
    "TRAIN_SPLIT=0.8\n",
    "VAL_SPLIT=0.1\n",
    "TEST_SPLIT=0.1\n",
    "assert (TRAIN_SPLIT + VAL_SPLIT + TEST_SPLIT) == 1\n",
    "ds_size = len(df)\n",
    "\n",
    "\n",
    "df_sample = df.sample(frac=1, random_state=12)\n",
    "indices_or_sections = [int(TRAIN_SPLIT * len(df)), int((1 - VAL_SPLIT) * len(df))]\n",
    "    \n",
    "df_train, df_val, df_test = np.split(df_sample, indices_or_sections)\n",
    "    \n",
    "# take out target feature    \n",
    "y_train = df_train.pop('f_esm_regret')\n",
    "y_val = df_val.pop('f_esm_regret')\n",
    "y_test = df_test.pop('f_esm_regret')\n",
    "x_train = df_train\n",
    "x_val = df_val\n",
    "x_test = df_test\n",
    "\n",
    "\n",
    "tf.convert_to_tensor(x_train)"
   ],
   "metadata": {
    "collapsed": false,
    "pycharm": {
     "name": "#%%\n"
    },
    "ExecuteTime": {
     "end_time": "2023-11-20T16:19:17.214818500Z",
     "start_time": "2023-11-20T16:18:45.549604800Z"
    }
   },
   "id": "a7facdeeade1117a"
  },
  {
   "cell_type": "code",
   "execution_count": 6,
   "outputs": [
    {
     "name": "stdout",
     "output_type": "stream",
     "text": [
      "WARNING:tensorflow:From C:\\projects\\piis-ws2324\\piis-ws2324-tl\\venv\\lib\\site-packages\\keras\\src\\backend.py:873: The name tf.get_default_graph is deprecated. Please use tf.compat.v1.get_default_graph instead.\n"
     ]
    },
    {
     "data": {
      "text/plain": "<tf.Tensor: shape=(3, 77), dtype=float32, numpy=\narray([[-3.36975843e-01, -2.05045283e-01, -5.00157416e-01,\n        -3.23191494e-01, -1.56712189e-01, -1.06720641e-01,\n        -2.72429466e-01, -1.26599446e-01, -4.20319885e-01,\n        -7.28201047e-02, -3.07369351e-01, -3.11384618e-01,\n        -2.21139610e-01, -1.53691798e-01, -1.88300446e-01,\n        -1.44714653e-01, -1.16436601e-01, -7.55944923e-02,\n        -2.88741440e-01, -1.08906791e-01, -1.79489538e-01,\n        -1.17039204e-01, -1.30930752e-01, -1.04411893e-01,\n        -1.91545412e-01, -7.50595257e-02, -1.76503405e-01,\n        -1.35102376e-01, -1.42766118e-01, -1.12518221e-01,\n        -1.11355655e-01, -1.04014173e-01, -6.13139346e-02,\n        -6.13139346e-02,  0.00000000e+00,  0.00000000e+00,\n        -2.21139610e-01, -7.76621923e-02, -1.43673941e-01,\n        -9.88566503e-02, -1.79489523e-01, -1.54224232e-01,\n         0.00000000e+00,  0.00000000e+00,  0.00000000e+00,\n         0.00000000e+00, -1.59747228e-01, -1.28955692e-01,\n        -1.00440390e-01, -8.92911106e-02, -4.30184364e-01,\n        -1.12961657e-01, -1.65064156e-01,  2.09552836e-05,\n        -1.34784982e-01, -2.48068556e-01, -1.33585513e-01,\n        -1.53514892e-01, -9.51961949e-02, -1.30932704e-01,\n        -1.29297316e-01, -7.67943189e-02, -1.02771252e-01,\n        -1.43311307e-01, -8.58777538e-02, -8.13584924e-02,\n        -6.13139383e-02,  0.00000000e+00, -1.38250932e-01,\n        -8.37704912e-02, -1.54501721e-01,  0.00000000e+00,\n         0.00000000e+00, -1.28955722e-01, -8.04842561e-02,\n         0.00000000e+00,  0.00000000e+00],\n       [-3.36975843e-01, -2.05045283e-01, -5.00157416e-01,\n        -3.23191494e-01, -1.56712189e-01, -1.06720641e-01,\n        -2.72429466e-01, -1.26599446e-01, -4.20319885e-01,\n        -8.04426000e-02, -3.07369351e-01, -3.11384618e-01,\n        -2.21139610e-01, -1.53691798e-01, -1.88300446e-01,\n        -1.44714653e-01, -1.16436601e-01, -7.55944923e-02,\n        -2.88741440e-01, -1.08906791e-01, -1.79489538e-01,\n        -1.17039204e-01, -1.30930752e-01, -1.04411893e-01,\n        -1.91545412e-01, -7.50595257e-02, -1.76503405e-01,\n        -1.35102376e-01, -1.42766118e-01, -1.12518221e-01,\n        -1.11355655e-01, -1.04014173e-01, -6.13139346e-02,\n        -6.13139346e-02,  0.00000000e+00,  0.00000000e+00,\n        -2.21139610e-01, -7.76621923e-02, -1.43673941e-01,\n        -9.88566503e-02, -1.79489523e-01, -1.54224232e-01,\n         0.00000000e+00,  0.00000000e+00,  0.00000000e+00,\n         0.00000000e+00, -1.59747228e-01, -1.28955692e-01,\n        -1.00440390e-01, -8.92911106e-02, -4.30184364e-01,\n        -1.12961657e-01, -1.65064156e-01, -9.01328102e-02,\n        -1.34784982e-01, -2.48068556e-01, -1.33585513e-01,\n        -1.53514892e-01, -9.51961949e-02, -1.30932704e-01,\n        -1.29297316e-01, -7.67943189e-02, -1.02771252e-01,\n        -1.43311307e-01, -8.58777538e-02, -8.13584924e-02,\n        -6.13139383e-02,  0.00000000e+00, -1.38250932e-01,\n        -8.37704912e-02, -1.54501721e-01,  0.00000000e+00,\n         0.00000000e+00, -1.28955722e-01, -8.04842561e-02,\n         0.00000000e+00,  0.00000000e+00],\n       [ 1.95406049e-01,  2.11645570e-03, -8.92588496e-02,\n        -1.33973300e-01, -1.56712189e-01, -1.06720641e-01,\n        -2.72429466e-01, -1.26599446e-01, -4.20319885e-01,\n        -8.40678588e-02, -3.07369351e-01, -3.11384618e-01,\n        -2.21139610e-01, -1.53691798e-01, -1.88300446e-01,\n        -1.44714653e-01, -1.16436601e-01, -7.55944923e-02,\n        -2.88741440e-01, -1.08906791e-01, -1.79489538e-01,\n        -1.17039204e-01, -1.30930752e-01, -1.04411893e-01,\n        -1.91545412e-01, -7.50595257e-02, -1.76503405e-01,\n        -1.35102376e-01, -1.42766118e-01, -1.12518221e-01,\n        -1.11355655e-01, -1.04014173e-01, -6.13139346e-02,\n        -6.13139346e-02,  0.00000000e+00,  0.00000000e+00,\n        -2.21139610e-01, -7.76621923e-02, -1.43673941e-01,\n        -9.88566503e-02, -1.79489523e-01, -1.54224232e-01,\n         0.00000000e+00,  0.00000000e+00,  0.00000000e+00,\n         0.00000000e+00, -1.59747228e-01, -1.28955692e-01,\n        -1.00440390e-01, -8.92911106e-02, -1.86282888e-01,\n        -1.12961657e-01, -1.65064156e-01, -1.20468788e-01,\n        -1.14778601e-01, -2.48068556e-01, -1.33585513e-01,\n        -1.53514892e-01, -9.51961949e-02, -1.30932704e-01,\n        -1.29297316e-01, -7.67943189e-02, -1.02771252e-01,\n        -1.43311307e-01, -8.58777538e-02, -8.13584924e-02,\n        -6.13139383e-02,  0.00000000e+00, -1.38250932e-01,\n        -8.37704912e-02, -1.54501721e-01,  0.00000000e+00,\n         0.00000000e+00, -1.28955722e-01, -8.04842561e-02,\n         0.00000000e+00,  0.00000000e+00]], dtype=float32)>"
     },
     "execution_count": 6,
     "metadata": {},
     "output_type": "execute_result"
    }
   ],
   "source": [
    "# normalize data\n",
    "normalizer = tf.keras.layers.Normalization(axis=-1)\n",
    "normalizer.adapt(x_train)\n",
    "normalizer.adapt(x_val)\n",
    "normalizer.adapt(x_test)\n",
    "normalizer(x_train.iloc[:3])\n"
   ],
   "metadata": {
    "collapsed": false,
    "ExecuteTime": {
     "end_time": "2023-11-20T13:19:38.900264500Z",
     "start_time": "2023-11-20T13:19:37.390234800Z"
    }
   },
   "id": "664359024b233cd6"
  },
  {
   "cell_type": "code",
   "execution_count": 7,
   "outputs": [
    {
     "name": "stdout",
     "output_type": "stream",
     "text": [
      "WARNING:tensorflow:From C:\\projects\\piis-ws2324\\piis-ws2324-tl\\venv\\lib\\site-packages\\keras\\src\\optimizers\\__init__.py:309: The name tf.train.Optimizer is deprecated. Please use tf.compat.v1.train.Optimizer instead.\n",
      "Epoch 1/15\n",
      "WARNING:tensorflow:From C:\\projects\\piis-ws2324\\piis-ws2324-tl\\venv\\lib\\site-packages\\keras\\src\\utils\\tf_utils.py:492: The name tf.ragged.RaggedTensorValue is deprecated. Please use tf.compat.v1.ragged.RaggedTensorValue instead.\n",
      "WARNING:tensorflow:From C:\\projects\\piis-ws2324\\piis-ws2324-tl\\venv\\lib\\site-packages\\keras\\src\\engine\\base_layer_utils.py:384: The name tf.executing_eagerly_outside_functions is deprecated. Please use tf.compat.v1.executing_eagerly_outside_functions instead.\n",
      "1066/1066 [==============================] - 6s 4ms/step - loss: 4532.6890 - accuracy: 0.9245 - val_loss: 0.2629 - val_accuracy: 0.9288\n",
      "Epoch 2/15\n",
      "1066/1066 [==============================] - 4s 4ms/step - loss: 0.2562 - accuracy: 0.9484 - val_loss: 0.2377 - val_accuracy: 0.9326\n",
      "Epoch 3/15\n",
      "1066/1066 [==============================] - 4s 4ms/step - loss: 0.1894 - accuracy: 0.9489 - val_loss: 0.2389 - val_accuracy: 0.9288\n",
      "Epoch 4/15\n",
      "1066/1066 [==============================] - 4s 3ms/step - loss: 0.1839 - accuracy: 0.9489 - val_loss: 0.2282 - val_accuracy: 0.9326\n",
      "Epoch 5/15\n",
      "1066/1066 [==============================] - 4s 3ms/step - loss: 0.1815 - accuracy: 0.9489 - val_loss: 0.2422 - val_accuracy: 0.9288\n",
      "Epoch 6/15\n",
      "1066/1066 [==============================] - 4s 3ms/step - loss: 0.1809 - accuracy: 0.9493 - val_loss: 0.2352 - val_accuracy: 0.9326\n",
      "Epoch 7/15\n",
      "1066/1066 [==============================] - 3s 3ms/step - loss: 0.1773 - accuracy: 0.9498 - val_loss: 0.2295 - val_accuracy: 0.9326\n",
      "Epoch 8/15\n",
      "1066/1066 [==============================] - 4s 3ms/step - loss: 0.1763 - accuracy: 0.9498 - val_loss: 0.2294 - val_accuracy: 0.9326\n",
      "Epoch 9/15\n",
      "1066/1066 [==============================] - 4s 3ms/step - loss: 0.1916 - accuracy: 0.9489 - val_loss: 0.2326 - val_accuracy: 0.9363\n",
      "Epoch 10/15\n",
      "1066/1066 [==============================] - 3s 3ms/step - loss: 0.1740 - accuracy: 0.9498 - val_loss: 0.2218 - val_accuracy: 0.9326\n",
      "Epoch 11/15\n",
      "1066/1066 [==============================] - 4s 3ms/step - loss: 0.1720 - accuracy: 0.9493 - val_loss: 0.2211 - val_accuracy: 0.9401\n",
      "Epoch 12/15\n",
      "1066/1066 [==============================] - 5s 4ms/step - loss: 0.1702 - accuracy: 0.9498 - val_loss: 0.2278 - val_accuracy: 0.9401\n",
      "Epoch 13/15\n",
      "1066/1066 [==============================] - 4s 4ms/step - loss: 0.1691 - accuracy: 0.9498 - val_loss: 0.2229 - val_accuracy: 0.9401\n",
      "Epoch 14/15\n",
      "1066/1066 [==============================] - 4s 4ms/step - loss: 0.1674 - accuracy: 0.9498 - val_loss: 0.2180 - val_accuracy: 0.9363\n",
      "Epoch 15/15\n",
      "1066/1066 [==============================] - 4s 3ms/step - loss: 0.1663 - accuracy: 0.9503 - val_loss: 0.2227 - val_accuracy: 0.9363\n"
     ]
    },
    {
     "data": {
      "text/plain": "<keras.src.callbacks.History at 0x1776a02b7c0>"
     },
     "execution_count": 7,
     "metadata": {},
     "output_type": "execute_result"
    }
   ],
   "source": [
    "def get_basic_model():\n",
    "  model = tf.keras.Sequential([\n",
    "    normalizer,\n",
    "    tf.keras.layers.Dense(10, activation='relu'),\n",
    "    tf.keras.layers.Dense(10, activation='relu'),\n",
    "    tf.keras.layers.Dense(1)\n",
    "  ])\n",
    "\n",
    "  model.compile(optimizer='adam',\n",
    "                loss=tf.keras.losses.BinaryCrossentropy(from_logits=True),\n",
    "                metrics=['accuracy'])\n",
    "  return model\n",
    "\n",
    "\n",
    "model = get_basic_model()\n",
    "model.fit(x_train, y_train, epochs=15, batch_size=2, validation_data=(x_val, y_val))\n"
   ],
   "metadata": {
    "collapsed": false,
    "ExecuteTime": {
     "end_time": "2023-11-20T13:20:40.519470800Z",
     "start_time": "2023-11-20T13:19:41.470543Z"
    }
   },
   "id": "6eefa86f256787da"
  },
  {
   "cell_type": "code",
   "execution_count": 8,
   "outputs": [
    {
     "name": "stdout",
     "output_type": "stream",
     "text": [
      "9/9 - 0s - loss: 0.1978 - accuracy: 0.9513 - 66ms/epoch - 7ms/step\n"
     ]
    },
    {
     "data": {
      "text/plain": "[0.19781990349292755, 0.9513108730316162]"
     },
     "execution_count": 8,
     "metadata": {},
     "output_type": "execute_result"
    }
   ],
   "source": [
    "# test actual performance\n",
    "model.evaluate(x_test,  y_test, verbose=2)\n"
   ],
   "metadata": {
    "collapsed": false,
    "ExecuteTime": {
     "end_time": "2023-11-20T13:20:43.715471Z",
     "start_time": "2023-11-20T13:20:43.533387800Z"
    }
   },
   "id": "99e54baf091ed384"
  },
  {
   "cell_type": "code",
   "execution_count": 1,
   "outputs": [
    {
     "ename": "NameError",
     "evalue": "name 'tf' is not defined",
     "output_type": "error",
     "traceback": [
      "\u001B[1;31m---------------------------------------------------------------------------\u001B[0m",
      "\u001B[1;31mNameError\u001B[0m                                 Traceback (most recent call last)",
      "Cell \u001B[1;32mIn[1], line 1\u001B[0m\n\u001B[1;32m----> 1\u001B[0m \u001B[38;5;28mprint\u001B[39m(\u001B[38;5;124m\"\u001B[39m\u001B[38;5;124mTensorFlow version:\u001B[39m\u001B[38;5;124m\"\u001B[39m, \u001B[43mtf\u001B[49m\u001B[38;5;241m.\u001B[39m__version__)\n\u001B[0;32m      2\u001B[0m \u001B[38;5;28;01mimport\u001B[39;00m \u001B[38;5;21;01mtensorflowjs\u001B[39;00m \u001B[38;5;28;01mas\u001B[39;00m \u001B[38;5;21;01mtfjs\u001B[39;00m\n\u001B[0;32m      4\u001B[0m \u001B[38;5;66;03m# can only be loaded by keras API\u001B[39;00m\n",
      "\u001B[1;31mNameError\u001B[0m: name 'tf' is not defined"
     ]
    }
   ],
   "source": [
    "\n",
    "# can only be loaded by keras API\n",
    "model.save(\"my_model.keras\")  \n",
    "# export to Tensorflow.js format\n",
    "tfjs.converters.save_keras_model(model,'/home/ru56cir')\n"
   ],
   "metadata": {
    "collapsed": false,
    "ExecuteTime": {
     "end_time": "2023-11-22T07:24:27.228087200Z",
     "start_time": "2023-11-22T07:24:26.596813900Z"
    }
   },
   "id": "f28d26be58466ac0"
  }
 ],
 "metadata": {
  "kernelspec": {
   "display_name": "Python 3 (ipykernel)",
   "language": "python",
   "name": "python3"
  },
  "language_info": {
   "codemirror_mode": {
    "name": "ipython",
    "version": 3
   },
   "file_extension": ".py",
   "mimetype": "text/x-python",
   "name": "python",
   "nbconvert_exporter": "python",
   "pygments_lexer": "ipython3",
   "version": "3.9.12"
  }
 },
 "nbformat": 4,
 "nbformat_minor": 5
}
