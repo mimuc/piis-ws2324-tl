{
 "cells": [
  {
   "cell_type": "code",
   "execution_count": 4,
   "id": "bb7a9116",
   "metadata": {
    "pycharm": {
     "name": "#%%\n",
     "is_executing": true
    },
    "ExecuteTime": {
     "end_time": "2023-11-22T08:53:24.532146400Z",
     "start_time": "2023-11-22T08:53:21.939570500Z"
    }
   },
   "outputs": [
    {
     "name": "stderr",
     "output_type": "stream",
     "text": [
      "WARNING:root:Failure to load the inference.so custom c++ tensorflow ops. This error is likely caused the version of TensorFlow and TensorFlow Decision Forests are not compatible. Full error:C:\\projects\\piis-ws2324\\piis-ws2324-tl\\venv\\lib\\site-packages\\tensorflow_decision_forests\\tensorflow\\ops\\inference\\inference.so not found\n"
     ]
    },
    {
     "ename": "NotFoundError",
     "evalue": "C:\\projects\\piis-ws2324\\piis-ws2324-tl\\venv\\lib\\site-packages\\tensorflow_decision_forests\\tensorflow\\ops\\inference\\inference.so not found",
     "output_type": "error",
     "traceback": [
      "\u001B[1;31m---------------------------------------------------------------------------\u001B[0m",
      "\u001B[1;31mNotFoundError\u001B[0m                             Traceback (most recent call last)",
      "Cell \u001B[1;32mIn[4], line 4\u001B[0m\n\u001B[0;32m      2\u001B[0m \u001B[38;5;28;01mimport\u001B[39;00m \u001B[38;5;21;01mpandas\u001B[39;00m \u001B[38;5;28;01mas\u001B[39;00m \u001B[38;5;21;01mpd\u001B[39;00m\n\u001B[0;32m      3\u001B[0m \u001B[38;5;28;01mimport\u001B[39;00m \u001B[38;5;21;01mnumpy\u001B[39;00m \u001B[38;5;28;01mas\u001B[39;00m \u001B[38;5;21;01mnp\u001B[39;00m\n\u001B[1;32m----> 4\u001B[0m \u001B[38;5;28;01mimport\u001B[39;00m \u001B[38;5;21;01mtensorflowjs\u001B[39;00m \u001B[38;5;28;01mas\u001B[39;00m \u001B[38;5;21;01mtfjs\u001B[39;00m\n\u001B[0;32m      5\u001B[0m \u001B[38;5;28mprint\u001B[39m(\u001B[38;5;124m\"\u001B[39m\u001B[38;5;124mTensorFlow version:\u001B[39m\u001B[38;5;124m\"\u001B[39m, tf\u001B[38;5;241m.\u001B[39m__version__)\n",
      "File \u001B[1;32mC:\\projects\\piis-ws2324\\piis-ws2324-tl\\venv\\lib\\site-packages\\tensorflowjs\\__init__.py:21\u001B[0m\n\u001B[0;32m     18\u001B[0m \u001B[38;5;28;01mfrom\u001B[39;00m \u001B[38;5;21;01m__future__\u001B[39;00m \u001B[38;5;28;01mimport\u001B[39;00m print_function\n\u001B[0;32m     20\u001B[0m \u001B[38;5;66;03m# pylint: disable=unused-imports\u001B[39;00m\n\u001B[1;32m---> 21\u001B[0m \u001B[38;5;28;01mfrom\u001B[39;00m \u001B[38;5;21;01mtensorflowjs\u001B[39;00m \u001B[38;5;28;01mimport\u001B[39;00m converters\n\u001B[0;32m     22\u001B[0m \u001B[38;5;28;01mfrom\u001B[39;00m \u001B[38;5;21;01mtensorflowjs\u001B[39;00m \u001B[38;5;28;01mimport\u001B[39;00m quantization\n\u001B[0;32m     23\u001B[0m \u001B[38;5;28;01mfrom\u001B[39;00m \u001B[38;5;21;01mtensorflowjs\u001B[39;00m \u001B[38;5;28;01mimport\u001B[39;00m version\n",
      "File \u001B[1;32mC:\\projects\\piis-ws2324\\piis-ws2324-tl\\venv\\lib\\site-packages\\tensorflowjs\\converters\\__init__.py:21\u001B[0m\n\u001B[0;32m     18\u001B[0m \u001B[38;5;28;01mfrom\u001B[39;00m \u001B[38;5;21;01m__future__\u001B[39;00m \u001B[38;5;28;01mimport\u001B[39;00m print_function\n\u001B[0;32m     20\u001B[0m \u001B[38;5;66;03m# pylint: disable=unused-imports,line-too-long\u001B[39;00m\n\u001B[1;32m---> 21\u001B[0m \u001B[38;5;28;01mfrom\u001B[39;00m \u001B[38;5;21;01mtensorflowjs\u001B[39;00m\u001B[38;5;21;01m.\u001B[39;00m\u001B[38;5;21;01mconverters\u001B[39;00m\u001B[38;5;21;01m.\u001B[39;00m\u001B[38;5;21;01mconverter\u001B[39;00m \u001B[38;5;28;01mimport\u001B[39;00m convert\n\u001B[0;32m     22\u001B[0m \u001B[38;5;28;01mfrom\u001B[39;00m \u001B[38;5;21;01mtensorflowjs\u001B[39;00m\u001B[38;5;21;01m.\u001B[39;00m\u001B[38;5;21;01mconverters\u001B[39;00m\u001B[38;5;21;01m.\u001B[39;00m\u001B[38;5;21;01mkeras_h5_conversion\u001B[39;00m \u001B[38;5;28;01mimport\u001B[39;00m save_keras_model\n\u001B[0;32m     23\u001B[0m \u001B[38;5;28;01mfrom\u001B[39;00m \u001B[38;5;21;01mtensorflowjs\u001B[39;00m\u001B[38;5;21;01m.\u001B[39;00m\u001B[38;5;21;01mconverters\u001B[39;00m\u001B[38;5;21;01m.\u001B[39;00m\u001B[38;5;21;01mkeras_tfjs_loader\u001B[39;00m \u001B[38;5;28;01mimport\u001B[39;00m deserialize_keras_model\n",
      "File \u001B[1;32mC:\\projects\\piis-ws2324\\piis-ws2324-tl\\venv\\lib\\site-packages\\tensorflowjs\\converters\\converter.py:37\u001B[0m\n\u001B[0;32m     35\u001B[0m \u001B[38;5;28;01mfrom\u001B[39;00m \u001B[38;5;21;01mtensorflowjs\u001B[39;00m\u001B[38;5;21;01m.\u001B[39;00m\u001B[38;5;21;01mconverters\u001B[39;00m \u001B[38;5;28;01mimport\u001B[39;00m keras_h5_conversion \u001B[38;5;28;01mas\u001B[39;00m conversion\n\u001B[0;32m     36\u001B[0m \u001B[38;5;28;01mfrom\u001B[39;00m \u001B[38;5;21;01mtensorflowjs\u001B[39;00m\u001B[38;5;21;01m.\u001B[39;00m\u001B[38;5;21;01mconverters\u001B[39;00m \u001B[38;5;28;01mimport\u001B[39;00m keras_tfjs_loader\n\u001B[1;32m---> 37\u001B[0m \u001B[38;5;28;01mfrom\u001B[39;00m \u001B[38;5;21;01mtensorflowjs\u001B[39;00m\u001B[38;5;21;01m.\u001B[39;00m\u001B[38;5;21;01mconverters\u001B[39;00m \u001B[38;5;28;01mimport\u001B[39;00m tf_saved_model_conversion_v2\n\u001B[0;32m     38\u001B[0m \u001B[38;5;28;01mfrom\u001B[39;00m \u001B[38;5;21;01mzipfile\u001B[39;00m \u001B[38;5;28;01mimport\u001B[39;00m ZipFile, is_zipfile\n\u001B[0;32m     41\u001B[0m \u001B[38;5;28;01mdef\u001B[39;00m \u001B[38;5;21mdispatch_keras_h5_to_tfjs_layers_model_conversion\u001B[39m(\n\u001B[0;32m     42\u001B[0m     h5_path, output_dir\u001B[38;5;241m=\u001B[39m\u001B[38;5;28;01mNone\u001B[39;00m, quantization_dtype_map\u001B[38;5;241m=\u001B[39m\u001B[38;5;28;01mNone\u001B[39;00m,\n\u001B[0;32m     43\u001B[0m     split_weights_by_layer\u001B[38;5;241m=\u001B[39m\u001B[38;5;28;01mFalse\u001B[39;00m,\n\u001B[0;32m     44\u001B[0m     weight_shard_size_bytes\u001B[38;5;241m=\u001B[39m\u001B[38;5;241m1024\u001B[39m \u001B[38;5;241m*\u001B[39m \u001B[38;5;241m1024\u001B[39m \u001B[38;5;241m*\u001B[39m \u001B[38;5;241m4\u001B[39m,\n\u001B[0;32m     45\u001B[0m     metadata\u001B[38;5;241m=\u001B[39m\u001B[38;5;28;01mNone\u001B[39;00m):\n",
      "File \u001B[1;32mC:\\projects\\piis-ws2324\\piis-ws2324-tl\\venv\\lib\\site-packages\\tensorflowjs\\converters\\tf_saved_model_conversion_v2.py:28\u001B[0m\n\u001B[0;32m     25\u001B[0m \u001B[38;5;28;01mfrom\u001B[39;00m \u001B[38;5;21;01mzipfile\u001B[39;00m \u001B[38;5;28;01mimport\u001B[39;00m ZipFile\n\u001B[0;32m     27\u001B[0m \u001B[38;5;66;03m# Required to load saved models that use TFDF.\u001B[39;00m\n\u001B[1;32m---> 28\u001B[0m \u001B[38;5;28;01mimport\u001B[39;00m \u001B[38;5;21;01mtensorflow_decision_forests\u001B[39;00m\n\u001B[0;32m     29\u001B[0m \u001B[38;5;28;01mimport\u001B[39;00m \u001B[38;5;21;01mtensorflow\u001B[39;00m \u001B[38;5;28;01mas\u001B[39;00m \u001B[38;5;21;01mtf\u001B[39;00m\n\u001B[0;32m     30\u001B[0m \u001B[38;5;28;01mfrom\u001B[39;00m \u001B[38;5;21;01mtensorflow\u001B[39;00m\u001B[38;5;21;01m.\u001B[39;00m\u001B[38;5;21;01mcore\u001B[39;00m\u001B[38;5;21;01m.\u001B[39;00m\u001B[38;5;21;01mframework\u001B[39;00m \u001B[38;5;28;01mimport\u001B[39;00m function_pb2\n",
      "File \u001B[1;32mC:\\projects\\piis-ws2324\\piis-ws2324-tl\\venv\\lib\\site-packages\\tensorflow_decision_forests\\__init__.py:64\u001B[0m\n\u001B[0;32m     60\u001B[0m \u001B[38;5;28;01mfrom\u001B[39;00m \u001B[38;5;21;01mtensorflow_decision_forests\u001B[39;00m\u001B[38;5;21;01m.\u001B[39;00m\u001B[38;5;21;01mtensorflow\u001B[39;00m \u001B[38;5;28;01mimport\u001B[39;00m check_version\n\u001B[0;32m     62\u001B[0m check_version\u001B[38;5;241m.\u001B[39mcheck_version(__version__, compatible_tf_versions)\n\u001B[1;32m---> 64\u001B[0m \u001B[38;5;28;01mfrom\u001B[39;00m \u001B[38;5;21;01mtensorflow_decision_forests\u001B[39;00m \u001B[38;5;28;01mimport\u001B[39;00m keras\n\u001B[0;32m     65\u001B[0m \u001B[38;5;28;01mfrom\u001B[39;00m \u001B[38;5;21;01mtensorflow_decision_forests\u001B[39;00m\u001B[38;5;21;01m.\u001B[39;00m\u001B[38;5;21;01mcomponent\u001B[39;00m \u001B[38;5;28;01mimport\u001B[39;00m py_tree\n\u001B[0;32m     66\u001B[0m \u001B[38;5;28;01mfrom\u001B[39;00m \u001B[38;5;21;01mtensorflow_decision_forests\u001B[39;00m\u001B[38;5;21;01m.\u001B[39;00m\u001B[38;5;21;01mcomponent\u001B[39;00m\u001B[38;5;21;01m.\u001B[39;00m\u001B[38;5;21;01mbuilder\u001B[39;00m \u001B[38;5;28;01mimport\u001B[39;00m builder\n",
      "File \u001B[1;32mC:\\projects\\piis-ws2324\\piis-ws2324-tl\\venv\\lib\\site-packages\\tensorflow_decision_forests\\keras\\__init__.py:53\u001B[0m\n\u001B[0;32m     15\u001B[0m \u001B[38;5;124;03m\"\"\"Decision Forest in a Keras Model.\u001B[39;00m\n\u001B[0;32m     16\u001B[0m \n\u001B[0;32m     17\u001B[0m \u001B[38;5;124;03mUsage example:\u001B[39;00m\n\u001B[1;32m   (...)\u001B[0m\n\u001B[0;32m     48\u001B[0m \u001B[38;5;124;03m```\u001B[39;00m\n\u001B[0;32m     49\u001B[0m \u001B[38;5;124;03m\"\"\"\u001B[39;00m\n\u001B[0;32m     51\u001B[0m \u001B[38;5;28;01mfrom\u001B[39;00m \u001B[38;5;21;01mtyping\u001B[39;00m \u001B[38;5;28;01mimport\u001B[39;00m Callable, List\n\u001B[1;32m---> 53\u001B[0m \u001B[38;5;28;01mfrom\u001B[39;00m \u001B[38;5;21;01mtensorflow_decision_forests\u001B[39;00m\u001B[38;5;21;01m.\u001B[39;00m\u001B[38;5;21;01mkeras\u001B[39;00m \u001B[38;5;28;01mimport\u001B[39;00m core\n\u001B[0;32m     54\u001B[0m \u001B[38;5;28;01mfrom\u001B[39;00m \u001B[38;5;21;01mtensorflow_decision_forests\u001B[39;00m\u001B[38;5;21;01m.\u001B[39;00m\u001B[38;5;21;01mkeras\u001B[39;00m \u001B[38;5;28;01mimport\u001B[39;00m wrappers\n\u001B[0;32m     56\u001B[0m \u001B[38;5;66;03m# Utility classes\u001B[39;00m\n",
      "File \u001B[1;32mC:\\projects\\piis-ws2324\\piis-ws2324-tl\\venv\\lib\\site-packages\\tensorflow_decision_forests\\keras\\core.py:62\u001B[0m\n\u001B[0;32m     60\u001B[0m \u001B[38;5;28;01mfrom\u001B[39;00m \u001B[38;5;21;01mtensorflow_decision_forests\u001B[39;00m\u001B[38;5;21;01m.\u001B[39;00m\u001B[38;5;21;01mcomponent\u001B[39;00m\u001B[38;5;21;01m.\u001B[39;00m\u001B[38;5;21;01minspector\u001B[39;00m \u001B[38;5;28;01mimport\u001B[39;00m inspector \u001B[38;5;28;01mas\u001B[39;00m inspector_lib\n\u001B[0;32m     61\u001B[0m \u001B[38;5;28;01mfrom\u001B[39;00m \u001B[38;5;21;01mtensorflow_decision_forests\u001B[39;00m\u001B[38;5;21;01m.\u001B[39;00m\u001B[38;5;21;01mcomponent\u001B[39;00m\u001B[38;5;21;01m.\u001B[39;00m\u001B[38;5;21;01mtuner\u001B[39;00m \u001B[38;5;28;01mimport\u001B[39;00m tuner \u001B[38;5;28;01mas\u001B[39;00m tuner_lib\n\u001B[1;32m---> 62\u001B[0m \u001B[38;5;28;01mfrom\u001B[39;00m \u001B[38;5;21;01mtensorflow_decision_forests\u001B[39;00m\u001B[38;5;21;01m.\u001B[39;00m\u001B[38;5;21;01mkeras\u001B[39;00m \u001B[38;5;28;01mimport\u001B[39;00m core_inference\n\u001B[0;32m     63\u001B[0m \u001B[38;5;28;01mfrom\u001B[39;00m \u001B[38;5;21;01mtensorflow_decision_forests\u001B[39;00m\u001B[38;5;21;01m.\u001B[39;00m\u001B[38;5;21;01mtensorflow\u001B[39;00m \u001B[38;5;28;01mimport\u001B[39;00m cc_logging\n\u001B[0;32m     64\u001B[0m \u001B[38;5;28;01mfrom\u001B[39;00m \u001B[38;5;21;01mtensorflow_decision_forests\u001B[39;00m\u001B[38;5;21;01m.\u001B[39;00m\u001B[38;5;21;01mtensorflow\u001B[39;00m \u001B[38;5;28;01mimport\u001B[39;00m core \u001B[38;5;28;01mas\u001B[39;00m tf_core\n",
      "File \u001B[1;32mC:\\projects\\piis-ws2324\\piis-ws2324-tl\\venv\\lib\\site-packages\\tensorflow_decision_forests\\keras\\core_inference.py:36\u001B[0m\n\u001B[0;32m     34\u001B[0m \u001B[38;5;28;01mfrom\u001B[39;00m \u001B[38;5;21;01mtensorflow_decision_forests\u001B[39;00m\u001B[38;5;21;01m.\u001B[39;00m\u001B[38;5;21;01mtensorflow\u001B[39;00m \u001B[38;5;28;01mimport\u001B[39;00m core_inference \u001B[38;5;28;01mas\u001B[39;00m tf_core\n\u001B[0;32m     35\u001B[0m \u001B[38;5;28;01mfrom\u001B[39;00m \u001B[38;5;21;01mtensorflow_decision_forests\u001B[39;00m\u001B[38;5;21;01m.\u001B[39;00m\u001B[38;5;21;01mtensorflow\u001B[39;00m \u001B[38;5;28;01mimport\u001B[39;00m tf_logging\n\u001B[1;32m---> 36\u001B[0m \u001B[38;5;28;01mfrom\u001B[39;00m \u001B[38;5;21;01mtensorflow_decision_forests\u001B[39;00m\u001B[38;5;21;01m.\u001B[39;00m\u001B[38;5;21;01mtensorflow\u001B[39;00m\u001B[38;5;21;01m.\u001B[39;00m\u001B[38;5;21;01mops\u001B[39;00m\u001B[38;5;21;01m.\u001B[39;00m\u001B[38;5;21;01minference\u001B[39;00m \u001B[38;5;28;01mimport\u001B[39;00m api \u001B[38;5;28;01mas\u001B[39;00m tf_op\n\u001B[0;32m     37\u001B[0m \u001B[38;5;28;01mfrom\u001B[39;00m \u001B[38;5;21;01myggdrasil_decision_forests\u001B[39;00m\u001B[38;5;21;01m.\u001B[39;00m\u001B[38;5;21;01mlearner\u001B[39;00m \u001B[38;5;28;01mimport\u001B[39;00m abstract_learner_pb2\n\u001B[0;32m     38\u001B[0m \u001B[38;5;28;01mfrom\u001B[39;00m \u001B[38;5;21;01myggdrasil_decision_forests\u001B[39;00m\u001B[38;5;21;01m.\u001B[39;00m\u001B[38;5;21;01mlearner\u001B[39;00m\u001B[38;5;21;01m.\u001B[39;00m\u001B[38;5;21;01mmultitasker\u001B[39;00m \u001B[38;5;28;01mimport\u001B[39;00m multitasker_pb2\n",
      "File \u001B[1;32mC:\\projects\\piis-ws2324\\piis-ws2324-tl\\venv\\lib\\site-packages\\tensorflow_decision_forests\\tensorflow\\ops\\inference\\api.py:179\u001B[0m\n\u001B[0;32m    177\u001B[0m \u001B[38;5;28;01mfrom\u001B[39;00m \u001B[38;5;21;01mtensorflow_decision_forests\u001B[39;00m\u001B[38;5;21;01m.\u001B[39;00m\u001B[38;5;21;01mcomponent\u001B[39;00m\u001B[38;5;21;01m.\u001B[39;00m\u001B[38;5;21;01minspector\u001B[39;00m \u001B[38;5;28;01mimport\u001B[39;00m inspector \u001B[38;5;28;01mas\u001B[39;00m inspector_lib\n\u001B[0;32m    178\u001B[0m \u001B[38;5;28;01mfrom\u001B[39;00m \u001B[38;5;21;01mtensorflow_decision_forests\u001B[39;00m\u001B[38;5;21;01m.\u001B[39;00m\u001B[38;5;21;01mtensorflow\u001B[39;00m \u001B[38;5;28;01mimport\u001B[39;00m tf1_compatibility\n\u001B[1;32m--> 179\u001B[0m \u001B[38;5;28;01mfrom\u001B[39;00m \u001B[38;5;21;01mtensorflow_decision_forests\u001B[39;00m\u001B[38;5;21;01m.\u001B[39;00m\u001B[38;5;21;01mtensorflow\u001B[39;00m\u001B[38;5;21;01m.\u001B[39;00m\u001B[38;5;21;01mops\u001B[39;00m\u001B[38;5;21;01m.\u001B[39;00m\u001B[38;5;21;01minference\u001B[39;00m \u001B[38;5;28;01mimport\u001B[39;00m op\n\u001B[0;32m    180\u001B[0m \u001B[38;5;28;01mfrom\u001B[39;00m \u001B[38;5;21;01myggdrasil_decision_forests\u001B[39;00m\u001B[38;5;21;01m.\u001B[39;00m\u001B[38;5;21;01mdataset\u001B[39;00m \u001B[38;5;28;01mimport\u001B[39;00m data_spec_pb2\n\u001B[0;32m    181\u001B[0m \u001B[38;5;28;01mfrom\u001B[39;00m \u001B[38;5;21;01myggdrasil_decision_forests\u001B[39;00m\u001B[38;5;21;01m.\u001B[39;00m\u001B[38;5;21;01mmodel\u001B[39;00m \u001B[38;5;28;01mimport\u001B[39;00m abstract_model_pb2\n",
      "File \u001B[1;32mC:\\projects\\piis-ws2324\\piis-ws2324-tl\\venv\\lib\\site-packages\\tensorflow_decision_forests\\tensorflow\\ops\\inference\\op.py:15\u001B[0m\n\u001B[0;32m      1\u001B[0m \u001B[38;5;66;03m# Copyright 2021 Google LLC.\u001B[39;00m\n\u001B[0;32m      2\u001B[0m \u001B[38;5;66;03m#\u001B[39;00m\n\u001B[0;32m      3\u001B[0m \u001B[38;5;66;03m# Licensed under the Apache License, Version 2.0 (the \"License\");\u001B[39;00m\n\u001B[1;32m   (...)\u001B[0m\n\u001B[0;32m     12\u001B[0m \u001B[38;5;66;03m# See the License for the specific language governing permissions and\u001B[39;00m\n\u001B[0;32m     13\u001B[0m \u001B[38;5;66;03m# limitations under the License.\u001B[39;00m\n\u001B[1;32m---> 15\u001B[0m \u001B[38;5;28;01mfrom\u001B[39;00m \u001B[38;5;21;01mtensorflow_decision_forests\u001B[39;00m\u001B[38;5;21;01m.\u001B[39;00m\u001B[38;5;21;01mtensorflow\u001B[39;00m\u001B[38;5;21;01m.\u001B[39;00m\u001B[38;5;21;01mops\u001B[39;00m\u001B[38;5;21;01m.\u001B[39;00m\u001B[38;5;21;01minference\u001B[39;00m\u001B[38;5;21;01m.\u001B[39;00m\u001B[38;5;21;01mop_dynamic\u001B[39;00m \u001B[38;5;28;01mimport\u001B[39;00m \u001B[38;5;241m*\u001B[39m\n",
      "File \u001B[1;32mC:\\projects\\piis-ws2324\\piis-ws2324-tl\\venv\\lib\\site-packages\\tensorflow_decision_forests\\tensorflow\\ops\\inference\\op_dynamic.py:24\u001B[0m\n\u001B[0;32m     22\u001B[0m \u001B[38;5;28;01mexcept\u001B[39;00m \u001B[38;5;167;01mException\u001B[39;00m \u001B[38;5;28;01mas\u001B[39;00m e:\n\u001B[0;32m     23\u001B[0m   check_version\u001B[38;5;241m.\u001B[39minfo_fail_to_load_custom_op(e, \u001B[38;5;124m\"\u001B[39m\u001B[38;5;124minference.so\u001B[39m\u001B[38;5;124m\"\u001B[39m)\n\u001B[1;32m---> 24\u001B[0m   \u001B[38;5;28;01mraise\u001B[39;00m e\n\u001B[0;32m     26\u001B[0m \u001B[38;5;66;03m# Importing all the symbols.\u001B[39;00m\n\u001B[0;32m     27\u001B[0m module \u001B[38;5;241m=\u001B[39m sys\u001B[38;5;241m.\u001B[39mmodules[\u001B[38;5;18m__name__\u001B[39m]\n",
      "File \u001B[1;32mC:\\projects\\piis-ws2324\\piis-ws2324-tl\\venv\\lib\\site-packages\\tensorflow_decision_forests\\tensorflow\\ops\\inference\\op_dynamic.py:21\u001B[0m\n\u001B[0;32m     18\u001B[0m \u001B[38;5;28;01mimport\u001B[39;00m \u001B[38;5;21;01msys\u001B[39;00m\n\u001B[0;32m     20\u001B[0m \u001B[38;5;28;01mtry\u001B[39;00m:\n\u001B[1;32m---> 21\u001B[0m   ops \u001B[38;5;241m=\u001B[39m \u001B[43mtf\u001B[49m\u001B[38;5;241;43m.\u001B[39;49m\u001B[43mload_op_library\u001B[49m\u001B[43m(\u001B[49m\u001B[43mresource_loader\u001B[49m\u001B[38;5;241;43m.\u001B[39;49m\u001B[43mget_path_to_datafile\u001B[49m\u001B[43m(\u001B[49m\u001B[38;5;124;43m\"\u001B[39;49m\u001B[38;5;124;43minference.so\u001B[39;49m\u001B[38;5;124;43m\"\u001B[39;49m\u001B[43m)\u001B[49m\u001B[43m)\u001B[49m\n\u001B[0;32m     22\u001B[0m \u001B[38;5;28;01mexcept\u001B[39;00m \u001B[38;5;167;01mException\u001B[39;00m \u001B[38;5;28;01mas\u001B[39;00m e:\n\u001B[0;32m     23\u001B[0m   check_version\u001B[38;5;241m.\u001B[39minfo_fail_to_load_custom_op(e, \u001B[38;5;124m\"\u001B[39m\u001B[38;5;124minference.so\u001B[39m\u001B[38;5;124m\"\u001B[39m)\n",
      "File \u001B[1;32mC:\\projects\\piis-ws2324\\piis-ws2324-tl\\venv\\lib\\site-packages\\tensorflow\\python\\framework\\load_library.py:54\u001B[0m, in \u001B[0;36mload_op_library\u001B[1;34m(library_filename)\u001B[0m\n\u001B[0;32m     31\u001B[0m \u001B[38;5;129m@tf_export\u001B[39m(\u001B[38;5;124m'\u001B[39m\u001B[38;5;124mload_op_library\u001B[39m\u001B[38;5;124m'\u001B[39m)\n\u001B[0;32m     32\u001B[0m \u001B[38;5;28;01mdef\u001B[39;00m \u001B[38;5;21mload_op_library\u001B[39m(library_filename):\n\u001B[0;32m     33\u001B[0m \u001B[38;5;250m  \u001B[39m\u001B[38;5;124;03m\"\"\"Loads a TensorFlow plugin, containing custom ops and kernels.\u001B[39;00m\n\u001B[0;32m     34\u001B[0m \n\u001B[0;32m     35\u001B[0m \u001B[38;5;124;03m  Pass \"library_filename\" to a platform-specific mechanism for dynamically\u001B[39;00m\n\u001B[1;32m   (...)\u001B[0m\n\u001B[0;32m     52\u001B[0m \u001B[38;5;124;03m    RuntimeError: when unable to load the library or get the python wrappers.\u001B[39;00m\n\u001B[0;32m     53\u001B[0m \u001B[38;5;124;03m  \"\"\"\u001B[39;00m\n\u001B[1;32m---> 54\u001B[0m   lib_handle \u001B[38;5;241m=\u001B[39m \u001B[43mpy_tf\u001B[49m\u001B[38;5;241;43m.\u001B[39;49m\u001B[43mTF_LoadLibrary\u001B[49m\u001B[43m(\u001B[49m\u001B[43mlibrary_filename\u001B[49m\u001B[43m)\u001B[49m\n\u001B[0;32m     55\u001B[0m   \u001B[38;5;28;01mtry\u001B[39;00m:\n\u001B[0;32m     56\u001B[0m     wrappers \u001B[38;5;241m=\u001B[39m _pywrap_python_op_gen\u001B[38;5;241m.\u001B[39mGetPythonWrappers(\n\u001B[0;32m     57\u001B[0m         py_tf\u001B[38;5;241m.\u001B[39mTF_GetOpList(lib_handle))\n",
      "\u001B[1;31mNotFoundError\u001B[0m: C:\\projects\\piis-ws2324\\piis-ws2324-tl\\venv\\lib\\site-packages\\tensorflow_decision_forests\\tensorflow\\ops\\inference\\inference.so not found"
     ]
    }
   ],
   "source": [
    "import tensorflow as tf\n",
    "import pandas as pd\n",
    "import numpy as np\n",
    "import tensorflowjs as tfjs\n",
    "print(\"TensorFlow version:\", tf.__version__)"
   ]
  },
  {
   "cell_type": "code",
   "execution_count": 5,
   "outputs": [
    {
     "data": {
      "text/plain": "session_id                             object\ncount                                   int64\nstudyID                                object\nsession_length                timedelta64[ns]\ntimestamp_1                    datetime64[ns]\n                                   ...       \nf_clicks_other                        float64\nf_app_count_other                     float64\nf_app_time_other                      float64\nf_app_category_count_other            float64\nf_app_category_time_other             float64\nLength: 179, dtype: object"
     },
     "execution_count": 5,
     "metadata": {},
     "output_type": "execute_result"
    }
   ],
   "source": [
    "# download and import dataset from Smartphone Rabbit Hole paper\n",
    "csv_file = tf.keras.utils.get_file('rabbithole.pickle', 'https://raw.githubusercontent.com/mimuc/mobilehci23-mobile-phone-rabbit-hole/main/data/smartphone_sessions_with_features.pickle')\n",
    "df_full = pd.read_pickle(csv_file)\n",
    "df_full.head()\n",
    "df_full.dtypes"
   ],
   "metadata": {
    "collapsed": false,
    "pycharm": {
     "name": "#%%\n"
    },
    "ExecuteTime": {
     "end_time": "2023-11-22T08:53:36.304027800Z",
     "start_time": "2023-11-22T08:53:32.820480400Z"
    }
   },
   "id": "acb69974c7876aa4"
  },
  {
   "cell_type": "code",
   "execution_count": 6,
   "outputs": [
    {
     "name": "stderr",
     "output_type": "stream",
     "text": [
      "C:\\Users\\florianb\\AppData\\Local\\Temp\\ipykernel_29720\\3714793922.py:12: SettingWithCopyWarning: \n",
      "A value is trying to be set on a copy of a slice from a DataFrame.\n",
      "Try using .loc[row_indexer,col_indexer] = value instead\n",
      "\n",
      "See the caveats in the documentation: https://pandas.pydata.org/pandas-docs/stable/user_guide/indexing.html#returning-a-view-versus-a-copy\n",
      "  df['f_esm_regret'] = df['f_esm_regret'].astype(float).astype(int).apply(lambda x: 1 if x>4 else 0)\n",
      "C:\\projects\\piis-ws2324\\piis-ws2324-tl\\venv\\lib\\site-packages\\numpy\\core\\fromnumeric.py:59: FutureWarning: 'DataFrame.swapaxes' is deprecated and will be removed in a future version. Please use 'DataFrame.transpose' instead.\n",
      "  return bound(*args, **kwds)\n"
     ]
    },
    {
     "data": {
      "text/plain": "<tf.Tensor: shape=(2132, 77), dtype=float64, numpy=\narray([[0.000e+00, 0.000e+00, 0.000e+00, ..., 0.000e+00, 0.000e+00,\n        0.000e+00],\n       [0.000e+00, 0.000e+00, 0.000e+00, ..., 0.000e+00, 0.000e+00,\n        0.000e+00],\n       [1.000e+00, 7.593e+04, 1.000e+00, ..., 0.000e+00, 0.000e+00,\n        0.000e+00],\n       ...,\n       [0.000e+00, 0.000e+00, 0.000e+00, ..., 0.000e+00, 0.000e+00,\n        0.000e+00],\n       [0.000e+00, 0.000e+00, 6.000e+00, ..., 0.000e+00, 0.000e+00,\n        0.000e+00],\n       [1.000e+00, 1.535e+04, 1.000e+00, ..., 0.000e+00, 0.000e+00,\n        0.000e+00]])>"
     },
     "execution_count": 6,
     "metadata": {},
     "output_type": "execute_result"
    }
   ],
   "source": [
    "# filter for rows where target label exists\n",
    "df = df_full[df_full['f_esm_regret'] != '']\n",
    "\n",
    "\n",
    "# feature selection\n",
    "numeric_feature_names = ['f_esm_regret']\n",
    "for c in df.columns:\n",
    "    if (\"f_app_category\" in c):\n",
    "        numeric_feature_names.append(c)\n",
    "        \n",
    "# make target feature binary\n",
    "df['f_esm_regret'] = df['f_esm_regret'].astype(float).astype(int).apply(lambda x: 1 if x>4 else 0)\n",
    "\n",
    "\n",
    "df = df[numeric_feature_names]\n",
    "df.head()\n",
    "\n",
    "\n",
    "# dataset split\n",
    "TRAIN_SPLIT=0.8\n",
    "VAL_SPLIT=0.1\n",
    "TEST_SPLIT=0.1\n",
    "assert (TRAIN_SPLIT + VAL_SPLIT + TEST_SPLIT) == 1\n",
    "ds_size = len(df)\n",
    "\n",
    "\n",
    "df_sample = df.sample(frac=1, random_state=12)\n",
    "indices_or_sections = [int(TRAIN_SPLIT * len(df)), int((1 - VAL_SPLIT) * len(df))]\n",
    "    \n",
    "df_train, df_val, df_test = np.split(df_sample, indices_or_sections)\n",
    "    \n",
    "# take out target feature    \n",
    "y_train = df_train.pop('f_esm_regret')\n",
    "y_val = df_val.pop('f_esm_regret')\n",
    "y_test = df_test.pop('f_esm_regret')\n",
    "x_train = df_train\n",
    "x_val = df_val\n",
    "x_test = df_test\n",
    "\n",
    "\n",
    "tf.convert_to_tensor(x_train, dtype=tf.float32)"
   ],
   "metadata": {
    "collapsed": false,
    "pycharm": {
     "name": "#%%\n"
    },
    "ExecuteTime": {
     "end_time": "2023-11-22T08:53:42.054924200Z",
     "start_time": "2023-11-22T08:53:41.641951200Z"
    }
   },
   "id": "a7facdeeade1117a"
  },
  {
   "cell_type": "code",
   "execution_count": 6,
   "outputs": [
    {
     "name": "stdout",
     "output_type": "stream",
     "text": [
      "WARNING:tensorflow:From C:\\projects\\piis-ws2324\\piis-ws2324-tl\\venv\\lib\\site-packages\\keras\\src\\backend.py:873: The name tf.get_default_graph is deprecated. Please use tf.compat.v1.get_default_graph instead.\n"
     ]
    },
    {
     "data": {
      "text/plain": "<tf.Tensor: shape=(3, 77), dtype=float32, numpy=\narray([[-3.36975843e-01, -2.05045283e-01, -5.00157416e-01,\n        -3.23191494e-01, -1.56712189e-01, -1.06720641e-01,\n        -2.72429466e-01, -1.26599446e-01, -4.20319885e-01,\n        -7.28201047e-02, -3.07369351e-01, -3.11384618e-01,\n        -2.21139610e-01, -1.53691798e-01, -1.88300446e-01,\n        -1.44714653e-01, -1.16436601e-01, -7.55944923e-02,\n        -2.88741440e-01, -1.08906791e-01, -1.79489538e-01,\n        -1.17039204e-01, -1.30930752e-01, -1.04411893e-01,\n        -1.91545412e-01, -7.50595257e-02, -1.76503405e-01,\n        -1.35102376e-01, -1.42766118e-01, -1.12518221e-01,\n        -1.11355655e-01, -1.04014173e-01, -6.13139346e-02,\n        -6.13139346e-02,  0.00000000e+00,  0.00000000e+00,\n        -2.21139610e-01, -7.76621923e-02, -1.43673941e-01,\n        -9.88566503e-02, -1.79489523e-01, -1.54224232e-01,\n         0.00000000e+00,  0.00000000e+00,  0.00000000e+00,\n         0.00000000e+00, -1.59747228e-01, -1.28955692e-01,\n        -1.00440390e-01, -8.92911106e-02, -4.30184364e-01,\n        -1.12961657e-01, -1.65064156e-01,  2.09552836e-05,\n        -1.34784982e-01, -2.48068556e-01, -1.33585513e-01,\n        -1.53514892e-01, -9.51961949e-02, -1.30932704e-01,\n        -1.29297316e-01, -7.67943189e-02, -1.02771252e-01,\n        -1.43311307e-01, -8.58777538e-02, -8.13584924e-02,\n        -6.13139383e-02,  0.00000000e+00, -1.38250932e-01,\n        -8.37704912e-02, -1.54501721e-01,  0.00000000e+00,\n         0.00000000e+00, -1.28955722e-01, -8.04842561e-02,\n         0.00000000e+00,  0.00000000e+00],\n       [-3.36975843e-01, -2.05045283e-01, -5.00157416e-01,\n        -3.23191494e-01, -1.56712189e-01, -1.06720641e-01,\n        -2.72429466e-01, -1.26599446e-01, -4.20319885e-01,\n        -8.04426000e-02, -3.07369351e-01, -3.11384618e-01,\n        -2.21139610e-01, -1.53691798e-01, -1.88300446e-01,\n        -1.44714653e-01, -1.16436601e-01, -7.55944923e-02,\n        -2.88741440e-01, -1.08906791e-01, -1.79489538e-01,\n        -1.17039204e-01, -1.30930752e-01, -1.04411893e-01,\n        -1.91545412e-01, -7.50595257e-02, -1.76503405e-01,\n        -1.35102376e-01, -1.42766118e-01, -1.12518221e-01,\n        -1.11355655e-01, -1.04014173e-01, -6.13139346e-02,\n        -6.13139346e-02,  0.00000000e+00,  0.00000000e+00,\n        -2.21139610e-01, -7.76621923e-02, -1.43673941e-01,\n        -9.88566503e-02, -1.79489523e-01, -1.54224232e-01,\n         0.00000000e+00,  0.00000000e+00,  0.00000000e+00,\n         0.00000000e+00, -1.59747228e-01, -1.28955692e-01,\n        -1.00440390e-01, -8.92911106e-02, -4.30184364e-01,\n        -1.12961657e-01, -1.65064156e-01, -9.01328102e-02,\n        -1.34784982e-01, -2.48068556e-01, -1.33585513e-01,\n        -1.53514892e-01, -9.51961949e-02, -1.30932704e-01,\n        -1.29297316e-01, -7.67943189e-02, -1.02771252e-01,\n        -1.43311307e-01, -8.58777538e-02, -8.13584924e-02,\n        -6.13139383e-02,  0.00000000e+00, -1.38250932e-01,\n        -8.37704912e-02, -1.54501721e-01,  0.00000000e+00,\n         0.00000000e+00, -1.28955722e-01, -8.04842561e-02,\n         0.00000000e+00,  0.00000000e+00],\n       [ 1.95406049e-01,  2.11645570e-03, -8.92588496e-02,\n        -1.33973300e-01, -1.56712189e-01, -1.06720641e-01,\n        -2.72429466e-01, -1.26599446e-01, -4.20319885e-01,\n        -8.40678588e-02, -3.07369351e-01, -3.11384618e-01,\n        -2.21139610e-01, -1.53691798e-01, -1.88300446e-01,\n        -1.44714653e-01, -1.16436601e-01, -7.55944923e-02,\n        -2.88741440e-01, -1.08906791e-01, -1.79489538e-01,\n        -1.17039204e-01, -1.30930752e-01, -1.04411893e-01,\n        -1.91545412e-01, -7.50595257e-02, -1.76503405e-01,\n        -1.35102376e-01, -1.42766118e-01, -1.12518221e-01,\n        -1.11355655e-01, -1.04014173e-01, -6.13139346e-02,\n        -6.13139346e-02,  0.00000000e+00,  0.00000000e+00,\n        -2.21139610e-01, -7.76621923e-02, -1.43673941e-01,\n        -9.88566503e-02, -1.79489523e-01, -1.54224232e-01,\n         0.00000000e+00,  0.00000000e+00,  0.00000000e+00,\n         0.00000000e+00, -1.59747228e-01, -1.28955692e-01,\n        -1.00440390e-01, -8.92911106e-02, -1.86282888e-01,\n        -1.12961657e-01, -1.65064156e-01, -1.20468788e-01,\n        -1.14778601e-01, -2.48068556e-01, -1.33585513e-01,\n        -1.53514892e-01, -9.51961949e-02, -1.30932704e-01,\n        -1.29297316e-01, -7.67943189e-02, -1.02771252e-01,\n        -1.43311307e-01, -8.58777538e-02, -8.13584924e-02,\n        -6.13139383e-02,  0.00000000e+00, -1.38250932e-01,\n        -8.37704912e-02, -1.54501721e-01,  0.00000000e+00,\n         0.00000000e+00, -1.28955722e-01, -8.04842561e-02,\n         0.00000000e+00,  0.00000000e+00]], dtype=float32)>"
     },
     "execution_count": 6,
     "metadata": {},
     "output_type": "execute_result"
    }
   ],
   "source": [
    "#TODO normalization is disabled, because made issues during the tfjs reload\n",
    "# normalize data\n",
    "#normalizer = tf.keras.layers.Normalization(axis=-1)\n",
    "#normalizer.adapt(x_train)\n",
    "#normalizer.adapt(x_val)\n",
    "#normalizer.adapt(x_test)\n",
    "#normalizer(x_train.iloc[:3])\n"
   ],
   "metadata": {
    "collapsed": false,
    "ExecuteTime": {
     "end_time": "2023-11-20T13:19:38.900264500Z",
     "start_time": "2023-11-20T13:19:37.390234800Z"
    }
   },
   "id": "664359024b233cd6"
  },
  {
   "cell_type": "code",
   "execution_count": 10,
   "outputs": [
    {
     "name": "stdout",
     "output_type": "stream",
     "text": [
      "WARNING:tensorflow:From C:\\projects\\piis-ws2324\\piis-ws2324-tl\\venv\\lib\\site-packages\\keras\\src\\backend.py:873: The name tf.get_default_graph is deprecated. Please use tf.compat.v1.get_default_graph instead.\n"
     ]
    },
    {
     "name": "stderr",
     "output_type": "stream",
     "text": [
      "WARNING:tensorflow:From C:\\projects\\piis-ws2324\\piis-ws2324-tl\\venv\\lib\\site-packages\\keras\\src\\backend.py:873: The name tf.get_default_graph is deprecated. Please use tf.compat.v1.get_default_graph instead.\n",
      "\n"
     ]
    },
    {
     "name": "stdout",
     "output_type": "stream",
     "text": [
      "WARNING:tensorflow:From C:\\projects\\piis-ws2324\\piis-ws2324-tl\\venv\\lib\\site-packages\\keras\\src\\optimizers\\__init__.py:309: The name tf.train.Optimizer is deprecated. Please use tf.compat.v1.train.Optimizer instead.\n"
     ]
    },
    {
     "name": "stderr",
     "output_type": "stream",
     "text": [
      "WARNING:tensorflow:From C:\\projects\\piis-ws2324\\piis-ws2324-tl\\venv\\lib\\site-packages\\keras\\src\\optimizers\\__init__.py:309: The name tf.train.Optimizer is deprecated. Please use tf.compat.v1.train.Optimizer instead.\n",
      "\n"
     ]
    },
    {
     "name": "stdout",
     "output_type": "stream",
     "text": [
      "Epoch 1/15\n"
     ]
    },
    {
     "name": "stderr",
     "output_type": "stream",
     "text": [
      "C:\\projects\\piis-ws2324\\piis-ws2324-tl\\venv\\lib\\site-packages\\keras\\src\\backend.py:5818: UserWarning: \"`binary_crossentropy` received `from_logits=True`, but the `output` argument was produced by a Sigmoid activation and thus does not represent logits. Was this intended?\n",
      "  output, from_logits = _get_logits(\n"
     ]
    },
    {
     "name": "stdout",
     "output_type": "stream",
     "text": [
      "WARNING:tensorflow:From C:\\projects\\piis-ws2324\\piis-ws2324-tl\\venv\\lib\\site-packages\\keras\\src\\utils\\tf_utils.py:492: The name tf.ragged.RaggedTensorValue is deprecated. Please use tf.compat.v1.ragged.RaggedTensorValue instead.\n"
     ]
    },
    {
     "name": "stderr",
     "output_type": "stream",
     "text": [
      "WARNING:tensorflow:From C:\\projects\\piis-ws2324\\piis-ws2324-tl\\venv\\lib\\site-packages\\keras\\src\\utils\\tf_utils.py:492: The name tf.ragged.RaggedTensorValue is deprecated. Please use tf.compat.v1.ragged.RaggedTensorValue instead.\n",
      "\n"
     ]
    },
    {
     "name": "stdout",
     "output_type": "stream",
     "text": [
      "WARNING:tensorflow:From C:\\projects\\piis-ws2324\\piis-ws2324-tl\\venv\\lib\\site-packages\\keras\\src\\engine\\base_layer_utils.py:384: The name tf.executing_eagerly_outside_functions is deprecated. Please use tf.compat.v1.executing_eagerly_outside_functions instead.\n"
     ]
    },
    {
     "name": "stderr",
     "output_type": "stream",
     "text": [
      "WARNING:tensorflow:From C:\\projects\\piis-ws2324\\piis-ws2324-tl\\venv\\lib\\site-packages\\keras\\src\\engine\\base_layer_utils.py:384: The name tf.executing_eagerly_outside_functions is deprecated. Please use tf.compat.v1.executing_eagerly_outside_functions instead.\n",
      "\n"
     ]
    },
    {
     "name": "stdout",
     "output_type": "stream",
     "text": [
      "1046/1066 [============================>.] - ETA: 0s - loss: 4483.6577 - accuracy: 0.7667"
     ]
    },
    {
     "name": "stderr",
     "output_type": "stream",
     "text": [
      "C:\\projects\\piis-ws2324\\piis-ws2324-tl\\venv\\lib\\site-packages\\keras\\src\\backend.py:5818: UserWarning: \"`binary_crossentropy` received `from_logits=True`, but the `output` argument was produced by a Sigmoid activation and thus does not represent logits. Was this intended?\n",
      "  output, from_logits = _get_logits(\n"
     ]
    },
    {
     "name": "stdout",
     "output_type": "stream",
     "text": [
      "1066/1066 [==============================] - 5s 3ms/step - loss: 4429.9126 - accuracy: 0.7683 - val_loss: 322.9394 - val_accuracy: 0.8614\n",
      "Epoch 2/15\n",
      "1066/1066 [==============================] - 3s 3ms/step - loss: 567.0851 - accuracy: 0.8687 - val_loss: 251.7846 - val_accuracy: 0.8539\n",
      "Epoch 3/15\n",
      "1066/1066 [==============================] - 3s 3ms/step - loss: 466.7436 - accuracy: 0.8579 - val_loss: 762.7707 - val_accuracy: 0.8801\n",
      "Epoch 4/15\n",
      "1066/1066 [==============================] - 3s 2ms/step - loss: 608.2036 - accuracy: 0.8959 - val_loss: 419.0273 - val_accuracy: 0.9026\n",
      "Epoch 5/15\n",
      "1066/1066 [==============================] - 3s 3ms/step - loss: 283.4016 - accuracy: 0.8785 - val_loss: 258.6587 - val_accuracy: 0.9176\n",
      "Epoch 6/15\n",
      "1066/1066 [==============================] - 3s 3ms/step - loss: 263.5682 - accuracy: 0.8640 - val_loss: 300.6320 - val_accuracy: 0.9139\n",
      "Epoch 7/15\n",
      "1066/1066 [==============================] - 3s 3ms/step - loss: 228.0872 - accuracy: 0.8809 - val_loss: 247.4659 - val_accuracy: 0.9176\n",
      "Epoch 8/15\n",
      "1066/1066 [==============================] - 3s 3ms/step - loss: 296.6097 - accuracy: 0.8963 - val_loss: 149.8096 - val_accuracy: 0.9139\n",
      "Epoch 9/15\n",
      "1066/1066 [==============================] - 3s 3ms/step - loss: 304.5638 - accuracy: 0.8809 - val_loss: 604.4450 - val_accuracy: 0.8052\n",
      "Epoch 10/15\n",
      "1066/1066 [==============================] - 3s 3ms/step - loss: 232.8786 - accuracy: 0.8940 - val_loss: 2832.3589 - val_accuracy: 0.4457\n",
      "Epoch 11/15\n",
      "1066/1066 [==============================] - 3s 3ms/step - loss: 210.4497 - accuracy: 0.8682 - val_loss: 191.9584 - val_accuracy: 0.9251\n",
      "Epoch 12/15\n",
      "1066/1066 [==============================] - 3s 3ms/step - loss: 151.6788 - accuracy: 0.9062 - val_loss: 80.9083 - val_accuracy: 0.8839\n",
      "Epoch 13/15\n",
      "1066/1066 [==============================] - 3s 3ms/step - loss: 966.4148 - accuracy: 0.8959 - val_loss: 374.7585 - val_accuracy: 0.9326\n",
      "Epoch 14/15\n",
      "1066/1066 [==============================] - 3s 3ms/step - loss: 320.7610 - accuracy: 0.9404 - val_loss: 81.4040 - val_accuracy: 0.8315\n",
      "Epoch 15/15\n",
      "1066/1066 [==============================] - 3s 3ms/step - loss: 212.3177 - accuracy: 0.9273 - val_loss: 71.8397 - val_accuracy: 0.9139\n"
     ]
    },
    {
     "data": {
      "text/plain": "<keras.src.callbacks.History at 0x2cf8a641bd0>"
     },
     "execution_count": 10,
     "metadata": {},
     "output_type": "execute_result"
    }
   ],
   "source": [
    "def get_basic_model():\n",
    "  tf.keras.backend.set_floatx('float32')\n",
    "  model = tf.keras.Sequential([\n",
    "  #  normalizer,\n",
    "    tf.keras.layers.Dense(10, activation='relu'),\n",
    "    tf.keras.layers.Dense(10, activation='relu'),\n",
    "    tf.keras.layers.Dense(1, activation='sigmoid')\n",
    "  ])\n",
    "\n",
    "  model.compile(optimizer='adam',\n",
    "                loss=tf.keras.losses.BinaryCrossentropy(from_logits=True),\n",
    "                metrics=['accuracy'])\n",
    "  return model\n",
    "\n",
    "\n",
    "model = get_basic_model()\n",
    "model.fit(x_train, y_train, epochs=15, batch_size=2, validation_data=(x_val, y_val))\n"
   ],
   "metadata": {
    "collapsed": false,
    "ExecuteTime": {
     "end_time": "2023-11-22T09:52:11.383449800Z",
     "start_time": "2023-11-22T09:51:23.537318800Z"
    }
   },
   "id": "6eefa86f256787da"
  },
  {
   "cell_type": "code",
   "execution_count": 12,
   "outputs": [
    {
     "name": "stdout",
     "output_type": "stream",
     "text": [
      "9/9 - 0s - loss: 238.3828 - accuracy: 0.9251 - 51ms/epoch - 6ms/step\n"
     ]
    },
    {
     "data": {
      "text/plain": "[238.3827667236328, 0.9250936508178711]"
     },
     "execution_count": 12,
     "metadata": {},
     "output_type": "execute_result"
    }
   ],
   "source": [
    "# test actual performance\n",
    "model.evaluate(x_test,  y_test, verbose=2)\n"
   ],
   "metadata": {
    "collapsed": false,
    "ExecuteTime": {
     "end_time": "2023-11-22T09:52:26.188215200Z",
     "start_time": "2023-11-22T09:52:26.046782600Z"
    }
   },
   "id": "99e54baf091ed384"
  },
  {
   "cell_type": "code",
   "execution_count": 1,
   "outputs": [
    {
     "ename": "NameError",
     "evalue": "name 'tf' is not defined",
     "output_type": "error",
     "traceback": [
      "\u001B[1;31m---------------------------------------------------------------------------\u001B[0m",
      "\u001B[1;31mNameError\u001B[0m                                 Traceback (most recent call last)",
      "Cell \u001B[1;32mIn[1], line 1\u001B[0m\n\u001B[1;32m----> 1\u001B[0m \u001B[38;5;28mprint\u001B[39m(\u001B[38;5;124m\"\u001B[39m\u001B[38;5;124mTensorFlow version:\u001B[39m\u001B[38;5;124m\"\u001B[39m, \u001B[43mtf\u001B[49m\u001B[38;5;241m.\u001B[39m__version__)\n\u001B[0;32m      2\u001B[0m \u001B[38;5;28;01mimport\u001B[39;00m \u001B[38;5;21;01mtensorflowjs\u001B[39;00m \u001B[38;5;28;01mas\u001B[39;00m \u001B[38;5;21;01mtfjs\u001B[39;00m\n\u001B[0;32m      4\u001B[0m \u001B[38;5;66;03m# can only be loaded by keras API\u001B[39;00m\n",
      "\u001B[1;31mNameError\u001B[0m: name 'tf' is not defined"
     ]
    }
   ],
   "source": [
    "\n",
    "# can only be loaded by keras API\n",
    "model.save(\"my_model.keras\")  \n",
    "# export to Tensorflow.js format\n",
    "tfjs.converters.save_keras_model(model,'/home/ru56cir')\n"
   ],
   "metadata": {
    "collapsed": false,
    "ExecuteTime": {
     "end_time": "2023-11-22T07:24:27.228087200Z",
     "start_time": "2023-11-22T07:24:26.596813900Z"
    }
   },
   "id": "f28d26be58466ac0"
  },
  {
   "cell_type": "code",
   "execution_count": 9,
   "outputs": [],
   "source": [
    "# export test data, in order to use it in the client device for test purposes\n",
    "x_test.to_json(\"./x_test.json\")\n",
    "y_test.to_json(\"./y_test.json\")"
   ],
   "metadata": {
    "collapsed": false,
    "ExecuteTime": {
     "end_time": "2023-11-22T08:57:19.010590200Z",
     "start_time": "2023-11-22T08:57:18.975898100Z"
    }
   },
   "id": "eb48a4be7c2c15aa"
  },
  {
   "cell_type": "code",
   "execution_count": 25,
   "outputs": [
    {
     "name": "stdout",
     "output_type": "stream",
     "text": [
      "1/1 [==============================] - 0s 35ms/step\n"
     ]
    },
    {
     "data": {
      "text/plain": "array([[2.9247221e-24]], dtype=float32)"
     },
     "execution_count": 25,
     "metadata": {},
     "output_type": "execute_result"
    }
   ],
   "source": [
    "# predict item 11725\n",
    "model.predict(x_test[8:9])"
   ],
   "metadata": {
    "collapsed": false,
    "ExecuteTime": {
     "end_time": "2023-11-22T10:29:43.204066100Z",
     "start_time": "2023-11-22T10:29:43.070549100Z"
    }
   },
   "id": "c542a3772a628dc3"
  },
  {
   "cell_type": "code",
   "execution_count": null,
   "outputs": [],
   "source": [
    "# predict item 8536\n",
    "model.predict(x_test[9:10])"
   ],
   "metadata": {
    "collapsed": false
   },
   "id": "2efa9a0b43870066"
  },
  {
   "cell_type": "code",
   "execution_count": 26,
   "outputs": [
    {
     "data": {
      "text/plain": "11725    0\nName: f_esm_regret, dtype: int64"
     },
     "execution_count": 26,
     "metadata": {},
     "output_type": "execute_result"
    }
   ],
   "source": [
    "y_test[8:9]"
   ],
   "metadata": {
    "collapsed": false,
    "ExecuteTime": {
     "end_time": "2023-11-22T10:29:54.299693700Z",
     "start_time": "2023-11-22T10:29:54.218417700Z"
    }
   },
   "id": "984c15d0e5cb688a"
  }
 ],
 "metadata": {
  "kernelspec": {
   "display_name": "Python 3 (ipykernel)",
   "language": "python",
   "name": "python3"
  },
  "language_info": {
   "codemirror_mode": {
    "name": "ipython",
    "version": 3
   },
   "file_extension": ".py",
   "mimetype": "text/x-python",
   "name": "python",
   "nbconvert_exporter": "python",
   "pygments_lexer": "ipython3",
   "version": "3.9.12"
  }
 },
 "nbformat": 4,
 "nbformat_minor": 5
}
